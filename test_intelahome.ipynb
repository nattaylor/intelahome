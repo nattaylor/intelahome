{
 "cells": [
  {
   "cell_type": "code",
   "execution_count": null,
   "id": "c2abfc84-e70b-4afb-ae37-3a48f4b83f20",
   "metadata": {},
   "outputs": [
    {
     "name": "stderr",
     "output_type": "stream",
     "text": [
      "test_report_LiveDemandReport (__main__.TestIntelahome.test_report_LiveDemandReport) ... ok\n",
      "test_report_UsageComparisonReportWeek (__main__.TestIntelahome.test_report_UsageComparisonReportWeek) ... ok\n",
      "test_report_UsageReport (__main__.TestIntelahome.test_report_UsageReport) ... ok\n",
      "test_report_UsageReportMonth (__main__.TestIntelahome.test_report_UsageReportMonth) ... ok\n",
      "\n",
      "----------------------------------------------------------------------\n",
      "Ran 4 tests in 0.199s\n",
      "\n",
      "OK\n"
     ]
    },
    {
     "data": {
      "text/plain": [
       "<unittest.main.TestProgram>"
      ]
     },
     "execution_count": null,
     "metadata": {},
     "output_type": "execute_result"
    }
   ],
   "source": [
    "import unittest\n",
    "import requests_mock\n",
    "import intelahome\n",
    "import logging\n",
    "import glob\n",
    "\n",
    "class TestIntelahome(unittest.TestCase):\n",
    "    @requests_mock.mock()\n",
    "    def setUp(self, mock):\n",
    "        mock.get('https://www.intelahome.com/index.asp', '')\n",
    "        mock.post('https://www.intelahome.com/index.asp', '')\n",
    "        self.I = intelahome.Intelahome()\n",
    "        self.mocks = {}\n",
    "        for name in glob.glob('mock_*.txt'):\n",
    "            with open(name, 'r') as f:\n",
    "                self.mocks[name] = f.read()\n",
    "\n",
    "    @requests_mock.mock()\n",
    "    def test_report_LiveDemandReport(self, mock):\n",
    "        mock.get('https://www.intelahome.com/plugins/live_demand/live_demand.asp',\n",
    "                 text=self.mocks['mock_live_demand.txt'])\n",
    "        report = self.I.report(intelahome.Report.LiveDemandReport)\n",
    "        self.assertIsInstance(report, dict)\n",
    "        self.assertEqual(report['2023-01-02T16:00:00'], 0.564)\n",
    "        self.assertEqual(len(report.keys()), 100)\n",
    "    \n",
    "    @requests_mock.mock()\n",
    "    def test_report_UsageReport(self, mock):\n",
    "        mock.get('https://www.intelahome.com/plugins/meter_usage/meter_usage.asp',\n",
    "                 text=self.mocks['mock_meter_usage.txt'])\n",
    "        report = self.I.report(intelahome.Report.UsageReport)\n",
    "        self.assertIsInstance(report, dict)\n",
    "        self.assertEqual(report['2023-01-02T19:00:00'], 0.363)\n",
    "        self.assertEqual(len(report.keys()), 24)\n",
    "    \n",
    "    @requests_mock.mock()\n",
    "    def test_report_UsageComparisonReportWeek(self, mock):\n",
    "        mock.get('https://www.intelahome.com/plugins/meter_usage/meter_usage_week.asp',\n",
    "                 text=self.mocks['mock_meter_usage_week.txt'])\n",
    "        report = self.I.report(intelahome.Report.UsageComparisonReportWeek)\n",
    "        self.assertIsInstance(report, dict)\n",
    "        self.assertEqual(report['2023-12-27T00:00:00'], 21.057)\n",
    "        self.assertEqual(len(report.keys()), 7)\n",
    "    \n",
    "    @requests_mock.mock()\n",
    "    def test_report_UsageReportMonth(self, mock):\n",
    "        mock.get('https://www.intelahome.com/plugins/meter_usage/meter_usage_month.asp',\n",
    "                 text=self.mocks['mock_meter_usage_month.txt'])\n",
    "        report = self.I.report(intelahome.Report.UsageReportMonth)\n",
    "        self.assertIsInstance(report, dict)\n",
    "        self.assertEqual(report['2023-01-01T00:00:00'], 15.559)\n",
    "        self.assertEqual(len(report.keys()), 3)\n",
    "        \n",
    "\n",
    "unittest.main(argv=[''], verbosity=2, exit=False)"
   ]
  }
 ],
 "metadata": {
  "kernelspec": {
   "display_name": "Python 3 (ipykernel)",
   "language": "python",
   "name": "python3"
  }
 },
 "nbformat": 4,
 "nbformat_minor": 5
}
